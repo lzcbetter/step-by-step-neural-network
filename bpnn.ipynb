{
 "cells": [
  {
   "cell_type": "markdown",
   "metadata": {},
   "source": [
    "I learn best with toy code that I can play with. I believe that only practice can help you convert theory into your own knowledge. \n",
    "\n",
    "This tutorial teaches backpropagation via a very simple toy example, a short python implementation."
   ]
  },
  {
   "cell_type": "markdown",
   "metadata": {},
   "source": [
    "Import necessary modules, numpy will be used for matrix and array with better performance"
   ]
  },
  {
   "cell_type": "code",
   "execution_count": 7,
   "metadata": {
    "collapsed": true
   },
   "outputs": [],
   "source": [
    "import numpy as np\n",
    "import matplotlib.pyplot as plt\n",
    "import matplotlib.cm as cm\n",
    "import random\n",
    "import math\n",
    "import datetime"
   ]
  },
  {
   "cell_type": "markdown",
   "metadata": {},
   "source": [
    "The sigmoid function we will use is: $sigmoid(z)=g(z)=\\frac { 1 }{ 1+{ e }^{ -z } } \\\\  $ you can choose to use other form according to the characteristic of your dataset.\n",
    "\n",
    "Note that your implementation should support **vector** operation, in other words, if parameter x is given as a vectior, your implementation should **return a vector** with all item passed the calculation."
   ]
  },
  {
   "cell_type": "code",
   "execution_count": 8,
   "metadata": {
    "collapsed": true
   },
   "outputs": [],
   "source": [
    "def sigmoid(x):\n",
    "    return 1.0 / (1.0 + np.exp(-x)) # exp function provided by numpy can support vector operation by default"
   ]
  },
  {
   "cell_type": "markdown",
   "metadata": {},
   "source": [
    "In order to use back propogation, you also need to implement the coorresponding **sigmoid gradient function**. The gradient for the sigmoid function can be computed as:\n",
    "\n",
    "$g^{ ' }\\left( z \\right) =\\frac { d }{ dz } g\\left( z \\right) =g\\left( z \\right) (1-g(z))\\\\$\n",
    "\n",
    "where:\n",
    "\n",
    "$sigmoid(z)=g(z)=\\frac { 1 }{ 1+{ e }^{ -z } } \\\\ \\\\ $ \n",
    "\n",
    "Note: the same as the implemetation of sigmod function, your implementation should support vectorization."
   ]
  },
  {
   "cell_type": "code",
   "execution_count": 9,
   "metadata": {
    "collapsed": true
   },
   "outputs": [],
   "source": [
    "# derivative of our sigmoid function, in terms of the output (i.e. y)\n",
    "def dsigmoid(y):\n",
    "    gz = sigmoid(y)\n",
    "    return gz * (1.0 - gz)"
   ]
  },
  {
   "cell_type": "markdown",
   "metadata": {},
   "source": [
    "# ANN model\n",
    "the main part, define a ANN class with three layers, one imput, one hidden and one output layer.\n",
    "\n",
    "The following Figure 1 illustrates the forward propogation, i.e. from input (features) to output (prediction).\n",
    "\n",
    "![alt text](ann.png)\n",
    "\n",
    "# random Initialization\n",
    "It is important to randomly initialize the parameters for symmetry breaking. One effective strategy for random initialization is to randomly select values for $\\Theta^{(l)}$ uniformly in the range $\\left[ { -\\epsilon  }_{ init },\\quad { \\epsilon  }_{ init } \\right] $.\n",
    " \n",
    "One effective strategy for choosing ${ \\epsilon  }_{ init }$ is to base it on the number of units in the network. A good choice of ${ \\epsilon  }_{ init }$ is ${ \\epsilon  }_{ init }=\\frac { \\sqrt { 6 }  }{ \\sqrt { { L }_{ in }+{ L }_{ out } }  } $, where $L_{in}=s_l$ and $L_{out}=s_{l+1}$ are the number of units in the layers adjacent to $\\Theta^{(l)}$. \n",
    "\n",
    "\n",
    "# Back Propogation (BP)\n",
    "It easy to figure out, in essence one node of the ANN model is a logistic regression model. We can train our ANN model as the same method we use for a logistic regression model. However, the target value for the output layer is apprent but for the hidden layer(s) is not. So, firstly we should find a way to \"distribute\" predict error of each train sample to all the nodes in hidden layer(s). Secondly, the cost function for a logistic regression model is not simple, compute the partial derivative for all the parameters is computation intensive.\n",
    "\n",
    "So, we have to find a way to distribute the erros and compute gradient fastly.\n",
    "\n",
    "The **intuition** behind the backpropagation algorithm is as follows. Given a training example ($\\left( { x }^{ (t) },\\quad y^{ (t) } \\right) $), we will first run a “forward pass” to compute all the activations throughout the network, including the output value of the hypothesis ${ h }_{ \\Theta  }\\left( x \\right)$. Then, for each node j in layer l, we would like to compute an “error term” ${ \\delta  }_{ j }^{ l }$ ($l$ denotes layer id) that measures how much that node should be **“responsible”** for any errors in our output.\n",
    "\n",
    "For an output node, we can directly measure the difference between the network’s activation and the true target value, and use that to define ${ \\delta  }_{ j }^{ 3 }$($l$ (since layer 3 is the output layer). For the hidden units, you will compute ${ \\delta  }_{ j }^{ l }$($l$ based on a weighted average of the error terms of the nodes in layer\n",
    "$(l + 1)$.\n",
    "\n",
    "In detail, here is the backpropagation algorithm:\n",
    "\n",
    "![alt text](bp.png)\n",
    "\n",
    "#Train, an optimization process\n",
    "Training of the ANN model is actually an **optimization process**, to find a set of parameter values ($\\Theta$) that can minimize the error between actual value and predcited value in trainset. As explained in previous section, we can compute gradient, the cost fucntion of the ANN model is a convex function. So, there will be a lot of optimization algorithm on shelf to use. Since this programm is to make a easier understanding of ANN for beginners. I will use a simplest optimization algorithm -- gradient descent. I will use back propogation method to compute the gradient along all the train samples, then update $\\Theta$ and iterate again util acceptable error reached.\n",
    "\n",
    "#Class Functions Comment one-by-one\n",
    "##def weights_init(self, l_in, l_out)\n",
    "When training neural networks, it is important to randomly initialize the parameters for symmetry breaking. (note that, this is to initialize weights fo one layer, as shown in Figure 1, the size of weights is determined by size of  input (output of previous layer) and size of output (also the input size of the next layer)).\n",
    "\n",
    "parameters:\n",
    "\n",
    "*l_in* : size of input side \n",
    "\n",
    "*l_out*: size of output side\n",
    "\n",
    "## def update(self, inputs)\n",
    "This function realize the forward propogation demostrated in Figure 1. So, the parameter of this function is a set of features which will results in output (label value). In one iteration, this function will be called for all the samples in training dataset.\n",
    "\n",
    "parameter(s):\n",
    "\n",
    "*inputs* a set of features of one sample\n",
    "\n",
    "## def weights_update(self, Lambda, m)\n",
    "This function implementes the gradient descend. Note that, different with a normal GD algorithm that the partial derivative is computed via BP instead of differentiation formula. This function will be called when all the samples in training dataset have passed the forward propogation and back propogation.\n",
    "\n",
    "parameter(s):\n",
    "\n",
    "*Lambda* the Regularization parameter (to avoid overfit issue)\n",
    "\n",
    "*m* number of samples in training dataset\n",
    "\n",
    "weights update formula (gradient descent): $\\frac { \\partial  }{ \\partial { \\Theta  }_{ ij }^{ (l) } } J(\\Theta )={ D }_{ ij }^{ (l) }=\\frac { 1 }{ m } { \\Delta  }_{ ij }^{ (l) }+\\frac { \\lambda  }{ m } { \\Theta  }_{ ij }^{ (l) }$ \n",
    "\n",
    "where $\\lambda $ is the Regularization parameter, learn rate was set as 1.0\n",
    "\n",
    "## def backPropagate(self, targets)\n",
    "This function realize the back propogation algorithm to distribute the cost of predict to all the nodes. The same as update function, this function also will called for each sample in training dataset.\n",
    "\n",
    "parameter(s):\n",
    "\n",
    "*targets* : actul label value corresponding to the features\n"
   ]
  },
  {
   "cell_type": "code",
   "execution_count": 10,
   "metadata": {
    "collapsed": true
   },
   "outputs": [],
   "source": [
    "class NN:\n",
    "    def __init__(self, ni, nh, no):\n",
    "        # number of input, hidden, and output nodes\n",
    "        self.n1 = ni + 1 # +1 for bias node\n",
    "        self.n2 = nh\n",
    "        self.n3 = no\n",
    "\n",
    "        # activations for nodes\n",
    "        self.a1 = np.zeros(shape=(self.n1, 1))\n",
    "        self.a2 = np.zeros(shape=(self.n2, 1))\n",
    "        self.a3 = np.zeros(shape=(self.n3, 1))\n",
    "        \n",
    "        # same as shown in the model\n",
    "        self.z2 = np.array([])\n",
    "        self.z3 = np.array([])\n",
    "\n",
    "        # create weights variables (the theta in model)\n",
    "        self.w1 = self.weights_init(ni, nh)\n",
    "        self.w2 = self.weights_init(nh, no)\n",
    "\n",
    "        # to accumulate the gradient from all the train samples   \n",
    "        self.Delta1 = np.zeros(shape=(self.n2, self.n1))  # for w1\n",
    "        self.Delta2 = np.zeros(shape=(self.n3, self.n2+1))# for w2\n",
    "\n",
    "    # When training neural networks, it is important to randomly initialize \n",
    "    # the parameters for symmetry breaking.\n",
    "    def weights_init(self, l_in, l_out):\n",
    "        eps_init = 0.12\n",
    "        ret = np.random.rand(l_out, 1+l_in) * 2 * eps_init - eps_init\n",
    "        return ret\n",
    "\n",
    "    # predict output according to the given inputs\n",
    "    def update(self, inputs):\n",
    "        self.a1 = np.vstack(([1.0], inputs))\n",
    "\n",
    "        # hidden activations\n",
    "        self.z2 = np.dot(self.w1, self.a1)\n",
    "        self.a2 = np.vstack(([1.0], sigmoid(self.z2)))\n",
    "\n",
    "        # output activations\n",
    "        self.z3 = np.dot(self.w2, self.a2)\n",
    "        self.a3 = sigmoid(self.z3)\n",
    "        return self.a3\n",
    "\n",
    "    # after each iteration, we update the weights, \n",
    "    # here we use gradient descent optimization algorithm, and the learn rate is set as 1.0\n",
    "    def weights_update(self, Lambda, m):\n",
    "        dw1 = self.Delta1 / m\n",
    "        dw2 = self.Delta2 / m\n",
    "        # for all the weights, you should not apply regulization on the first column since they are for bias\n",
    "        for i in range(self.w1.shape[0]):\n",
    "            self.w1[i, 0] = self.w1[i, 0] - dw1[i, 0]\n",
    "        for i in range(self.w1.shape[0]):\n",
    "            for j in range(1, self.w1.shape[1]):\n",
    "                self.w1[i, j] = self.w1[i, j] - (dw1[i, j] + (Lambda/m) * self.w1[i, j])\n",
    "        \n",
    "        for i in range(self.w2.shape[0]):\n",
    "            self.w2[i, 0] = self.w2[i, 0] - dw2[i, 0]\n",
    "        for i in range(self.w2.shape[0]):\n",
    "            for j in range(1, self.w2.shape[1]):\n",
    "                self.w2[i, j] = self.w2[i, j] - (dw2[i, j] + (Lambda/m) * self.w2[i, j])\n",
    "                \n",
    "        # this is importment, since the variable is to accumulate the gradient from each training sample\n",
    "        # we should clear the accumulation after each iteration\n",
    "        self.Delta1.fill(0.0)\n",
    "        self.Delta2.fill(0.0)\n",
    "\n",
    "    # distribute the cost of predict to all the nodes\n",
    "    def backPropagate(self, targets):\n",
    "        # calculate error terms for output\n",
    "        delta3 = self.a3 - targets\n",
    "        # do not forget to skip the first column which is for bias and should not be included\n",
    "        delta2 = (np.dot(self.w2.T, delta3))[1:] * dsigmoid(self.z2)\n",
    "        #accumulate the gradient from all the train samples \n",
    "        self.Delta1 = self.Delta1 + np.dot(delta2, self.a1.T)\n",
    "        self.Delta2 = self.Delta2 + np.dot(delta3, self.a2.T)\n",
    "\n",
    "        # calculate error, mse was used, just to show the minimization, \n",
    "        # if use other optimize method, should use cost function \n",
    "        error = 0.0\n",
    "        for k in range(len(targets)):\n",
    "            error += (targets[k] - self.a3[k])**2\n",
    "\n",
    "        return np.sqrt(error) / len(targets)\n",
    "\n",
    "    # to test a trained ANN\n",
    "    def test(self, patterns):\n",
    "        ac = 1\n",
    "        for p in patterns:\n",
    "            predict = self.update(p[0])\n",
    "            print(1 + np.argmax(p[1]), 'vs.', 1 + np.argmax(predict))\n",
    "            if np.argmax(p[1]) == np.argmax(predict):\n",
    "                ac += 1\n",
    "        print(\"training set accuracy: {0} %\".format(100.0 * ac / len(patterns)))\n",
    "\n",
    "    # train the model by using gradient descent optimization algorithm\n",
    "    def train(self, patterns, iterations, Lambda):\n",
    "        for i in range(iterations):\n",
    "            error = 0.0\n",
    "            for p in patterns:\n",
    "                inputs = p[0]\n",
    "                targets = p[1]\n",
    "                self.update(inputs)\n",
    "                error += self.backPropagate(targets)\n",
    "            self.weights_update(Lambda, len(patterns))\n",
    "            if i % 50 == 0:\n",
    "                print('error: {0}'.format(error))"
   ]
  },
  {
   "cell_type": "markdown",
   "metadata": {},
   "source": [
    "###load train dataset and test data set from numpy binary files.\n",
    "\n",
    "There are 5000 training examples in X.npy, where each training example is a 20 pixel by 20 pixel grayscale image of the digit. Each pixel is represented by a floating point number indicating the grayscale intensity at that location. The 20 by 20 grid of pixels is “unrolled” into a 400-dimensional vector. Each of these training examples becomes a single row in our data matrix X. This gives us a 5000 by 400 matrix X where every row is a training example for a handwritten digit image.\n",
    "\n",
    "The y (y.npy) part of the training set is a 5000-dimensional vector y that contains labels for the training set. The data were from the machine learning course of  Andrew Ng. They have mapped the digit zero to the value ten for Octave/Matlab indexing. Therefore, a “0” digit is labeled as “10”, while the digits “1” to “9” are labeled as “1” to “9” in their natural order."
   ]
  },
  {
   "cell_type": "code",
   "execution_count": 11,
   "metadata": {
    "collapsed": false
   },
   "outputs": [
    {
     "name": "stdout",
     "output_type": "stream",
     "text": [
      "((5000, 400), (5000, 1))\n"
     ]
    }
   ],
   "source": [
    "X = np.load(\"X.npy\")\n",
    "y = np.load(\"y.npy\")\n",
    "print (X.shape, y.shape)"
   ]
  },
  {
   "cell_type": "markdown",
   "metadata": {},
   "source": [
    "visualize a part of the dataset\n",
    "\n",
    "handwritten figure was saved as $20 * 20$ pixel and stored as a one dimension array with size of 400 bytes. \n",
    "\n",
    "All the datasets is stored in a two dimensional array with size of $5000 * 400$; one line in X with size 400 represents a handwritten figure.\n",
    "\n",
    "The following function will visualized part of the datasets with ncol * nrow."
   ]
  },
  {
   "cell_type": "code",
   "execution_count": 12,
   "metadata": {
    "collapsed": false
   },
   "outputs": [],
   "source": [
    "%matplotlib inline\n",
    "def handwritten_visualize(X, ncol, nrow):\n",
    "# handwritten figure was saved as 20*20 pixel, \n",
    "# one line in X with size 400 represents a handwritten figure\n",
    "    _, axarr = plt.subplots(ncol, nrow)\n",
    "    for ir in range(ncol):\n",
    "        for ic in range(nrow):\n",
    "            axarr[ir, ic].imshow(X[int(np.random.rand()*X.shape[0])].reshape((20,20)).T, cmap = cm.Greys_r)\n",
    "            axarr[ir, ic].axis('off')\n",
    "    plt.show()\n",
    "        "
   ]
  },
  {
   "cell_type": "code",
   "execution_count": 13,
   "metadata": {
    "collapsed": false
   },
   "outputs": [
    {
     "data": {
      "image/png": "[encoded data removed]",
      "text/plain": [
       "<matplotlib.figure.Figure at 0x10de03910>"
      ]
     },
     "metadata": {},
     "output_type": "display_data"
    }
   ],
   "source": [
    "handwritten_visualize(X, 10, 10)"
   ]
  },
  {
   "cell_type": "markdown",
   "metadata": {},
   "source": [
    "Train and test the neural network with the given handwritten datasets.\n",
    "\n",
    "We will create a three layers ANN, so, the number of neural node in the first layer will be 400, the size of output layer will be 10 and the size of hidden layers will be set as 25 (or any size as you want for other application), the size of hidden layer should be carefully selected, however the methods to choose a proper size is out of the scope of this tutorial.\n",
    "\n",
    "We will use all the 5000 examples to train the ANN model and randomly select 50 samples to test the trained ANN. Comprehensive test, like seperate datasets as three subset for training, testing and validaton separately, should be conducted in the future. "
   ]
  },
  {
   "cell_type": "code",
   "execution_count": 14,
   "metadata": {
    "collapsed": false
   },
   "outputs": [],
   "source": [
    "\n",
    "def hw_demo(Xd, yd):\n",
    "    train_set = []\n",
    "    test_set = []\n",
    "    train_set_size = 4950\n",
    "    test_size = 50\n",
    "    \n",
    "    for idx in range(train_set_size):\n",
    "        x = Xd[idx].reshape((-1,1))\n",
    "\n",
    "        y = np.eye(10)[yd[idx]-1].reshape((-1, 1))\n",
    "\n",
    "        train_set.append([x, y])\n",
    "\n",
    "    # randomly choose some samles to test trained model\n",
    "    for i in range(test_size):\n",
    "        idx = int(np.random.rand() * len(Xd))\n",
    "        x = Xd[idx].reshape((-1,1))\n",
    "        y = np.eye(10)[yd[idx]-1].reshape((-1, 1))\n",
    "        test_set.append([x, y])\n",
    "    # create a network with two input, two hidden, and one output nodes\n",
    "    n = NN(400, 25, 10)\n",
    "    \n",
    "    # train it with some patterns\n",
    "    dt_st = datetime.datetime.now()\n",
    "    print (\"train start at: {0}\".format(dt_st))\n",
    "    \n",
    "    n.train(train_set, 400, 10.1)\n",
    "    \n",
    "    dt_end = datetime.datetime.now()\n",
    "    print (\"train end at: {0}\".format(dt_end))\n",
    "    print (\"time elapse in traininf: {0} seconds\".format((dt_end-dt_st).seconds))\n",
    "    \n",
    "    n.test(test_set)"
   ]
  },
  {
   "cell_type": "code",
   "execution_count": 15,
   "metadata": {
    "collapsed": false
   },
   "outputs": [
    {
     "name": "stdout",
     "output_type": "stream",
     "text": [
      "train start at: 2015-09-04 12:19:41.822099\n",
      "error: [ 770.03383653]\n",
      "error: [ 362.9634802]\n",
      "error: [ 267.51060315]\n",
      "error: [ 218.52972642]\n",
      "error: [ 191.79313168]\n",
      "error: [ 175.08323103]\n",
      "error: [ 164.18935364]\n",
      "error: [ 156.82864886]\n",
      "train end at: 2015-09-04 12:23:34.237194\n",
      "time elapse in traininf: 232 seconds\n",
      "(8, 'vs.', 8)\n",
      "(7, 'vs.', 7)\n",
      "(5, 'vs.', 5)\n",
      "(8, 'vs.', 8)\n",
      "(6, 'vs.', 6)\n",
      "(3, 'vs.', 3)\n",
      "(3, 'vs.', 4)\n",
      "(6, 'vs.', 1)\n",
      "(3, 'vs.', 3)\n",
      "(3, 'vs.', 3)\n",
      "(1, 'vs.', 1)\n",
      "(9, 'vs.', 9)\n",
      "(10, 'vs.', 10)\n",
      "(1, 'vs.', 1)\n",
      "(6, 'vs.', 6)\n",
      "(1, 'vs.', 1)\n",
      "(3, 'vs.', 3)\n",
      "(2, 'vs.', 2)\n",
      "(8, 'vs.', 8)\n",
      "(6, 'vs.', 6)\n",
      "(10, 'vs.', 10)\n",
      "(9, 'vs.', 3)\n",
      "(3, 'vs.', 3)\n",
      "(1, 'vs.', 1)\n",
      "(10, 'vs.', 10)\n",
      "(8, 'vs.', 8)\n",
      "(3, 'vs.', 3)\n",
      "(3, 'vs.', 3)\n",
      "(7, 'vs.', 7)\n",
      "(2, 'vs.', 2)\n",
      "(8, 'vs.', 8)\n",
      "(8, 'vs.', 9)\n",
      "(3, 'vs.', 3)\n",
      "(9, 'vs.', 5)\n",
      "(7, 'vs.', 7)\n",
      "(2, 'vs.', 2)\n",
      "(2, 'vs.', 2)\n",
      "(8, 'vs.', 8)\n",
      "(10, 'vs.', 10)\n",
      "(5, 'vs.', 5)\n",
      "(8, 'vs.', 8)\n",
      "(10, 'vs.', 10)\n",
      "(7, 'vs.', 7)\n",
      "(6, 'vs.', 6)\n",
      "(8, 'vs.', 8)\n",
      "(1, 'vs.', 1)\n",
      "(8, 'vs.', 8)\n",
      "(9, 'vs.', 9)\n",
      "(6, 'vs.', 6)\n",
      "(3, 'vs.', 2)\n",
      "training set accuracy: 90.0 %\n"
     ]
    }
   ],
   "source": [
    "hw_demo(X, y)"
   ]
  },
  {
   "cell_type": "markdown",
   "metadata": {},
   "source": [
    "###results\n",
    "So, seems amazing, just give it the handwritting image, the model can recognize your written number. Note that you results may be different with mine do to the random weight initialization. The train takes me around 15 minutes on a macbook pro with core i7 @ 2.00Ghz, single core. in this version, I simply use gradient descent optimization algorithm, it converges very slowly, I will try to use other algorithms(like conjugate gradient algorithm) in the next step.\n",
    "\n",
    "Also you can see that the train error convereged gracefully."
   ]
  },
  {
   "cell_type": "markdown",
   "metadata": {
    "collapsed": true
   },
   "source": [
    "### note to help understanding \n",
    "as far as I know, remember all parameter dimension in mind coulf help you a lot to understand the model. for example, as show in the aboving demo, we used 25 nodes (bias not included)\n"
   ]
  },
  {
   "cell_type": "code",
   "execution_count": null,
   "metadata": {
    "collapsed": true
   },
   "outputs": [],
   "source": []
  }
 ],
 "metadata": {
  "kernelspec": {
   "display_name": "Python 2",
   "language": "python",
   "name": "python2"
  },
  "language_info": {
   "codemirror_mode": {
    "name": "ipython",
    "version": 2
   },
   "file_extension": ".py",
   "mimetype": "text/x-python",
   "name": "python",
   "nbconvert_exporter": "python",
   "pygments_lexer": "ipython2",
   "version": "2.7.10"
  }
 },
 "nbformat": 4,
 "nbformat_minor": 0
}
